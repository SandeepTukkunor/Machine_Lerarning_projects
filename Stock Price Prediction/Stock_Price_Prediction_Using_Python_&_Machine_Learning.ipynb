{
  "nbformat": 4,
  "nbformat_minor": 0,
  "metadata": {
    "colab": {
      "name": "Stock Price Prediction Using Python & Machine Learning.ipynb",
      "provenance": [],
      "collapsed_sections": []
    },
    "kernelspec": {
      "name": "python3",
      "display_name": "Python 3"
    },
    "accelerator": "TPU"
  },
  "cells": [
    {
      "cell_type": "code",
      "metadata": {
        "id": "HhFtdyonVs5K",
        "colab_type": "code",
        "colab": {}
      },
      "source": [
        "#for this project  this i have followed allong the a video from the youtube channel, \" Computer Science\" \n",
        "\n"
      ],
      "execution_count": 1,
      "outputs": []
    },
    {
      "cell_type": "code",
      "metadata": {
        "id": "rdxjJdmuXJuP",
        "colab_type": "code",
        "colab": {}
      },
      "source": [
        "#In this project we are going to predict the stock price of APPLE by the data availble from 2012 t 2020 "
      ],
      "execution_count": 2,
      "outputs": []
    },
    {
      "cell_type": "code",
      "metadata": {
        "id": "Z07-sawBXVHz",
        "colab_type": "code",
        "colab": {
          "base_uri": "https://localhost:8080/",
          "height": 74
        },
        "outputId": "43dd62d9-668a-484d-931b-395a259c6fd0"
      },
      "source": [
        "# import the libraries \n",
        "import math \n",
        "import pandas as pd\n",
        "import pandas_datareader as web\n",
        "import numpy as np\n",
        "import matplotlib.pyplot as plt\n",
        "from sklearn.preprocessing import MinMaxScaler\n",
        "from keras.models import Sequential\n",
        "from keras.layers import Dense,LSTM\n",
        "plt.style.use(\"fivethirtyeight\")"
      ],
      "execution_count": 3,
      "outputs": [
        {
          "output_type": "stream",
          "text": [
            "/usr/local/lib/python3.6/dist-packages/pandas_datareader/compat/__init__.py:7: FutureWarning: pandas.util.testing is deprecated. Use the functions in the public API at pandas.testing instead.\n",
            "  from pandas.util.testing import assert_frame_equal\n"
          ],
          "name": "stderr"
        }
      ]
    },
    {
      "cell_type": "code",
      "metadata": {
        "id": "6SFTg-bwYGhV",
        "colab_type": "code",
        "colab": {
          "base_uri": "https://localhost:8080/",
          "height": 455
        },
        "outputId": "eb5dc085-bbfb-4bde-bc42-a385db62556e"
      },
      "source": [
        "# get the data \n",
        "df = web.DataReader(\"GOOGL\",data_source=\"yahoo\", start=\"2012-01-01\" , end=\"2019-12-17\")\n",
        "df"
      ],
      "execution_count": 4,
      "outputs": [
        {
          "output_type": "execute_result",
          "data": {
            "text/html": [
              "<div>\n",
              "<style scoped>\n",
              "    .dataframe tbody tr th:only-of-type {\n",
              "        vertical-align: middle;\n",
              "    }\n",
              "\n",
              "    .dataframe tbody tr th {\n",
              "        vertical-align: top;\n",
              "    }\n",
              "\n",
              "    .dataframe thead th {\n",
              "        text-align: right;\n",
              "    }\n",
              "</style>\n",
              "<table border=\"1\" class=\"dataframe\">\n",
              "  <thead>\n",
              "    <tr style=\"text-align: right;\">\n",
              "      <th></th>\n",
              "      <th>High</th>\n",
              "      <th>Low</th>\n",
              "      <th>Open</th>\n",
              "      <th>Close</th>\n",
              "      <th>Volume</th>\n",
              "      <th>Adj Close</th>\n",
              "    </tr>\n",
              "    <tr>\n",
              "      <th>Date</th>\n",
              "      <th></th>\n",
              "      <th></th>\n",
              "      <th></th>\n",
              "      <th></th>\n",
              "      <th></th>\n",
              "      <th></th>\n",
              "    </tr>\n",
              "  </thead>\n",
              "  <tbody>\n",
              "    <tr>\n",
              "      <th>2012-01-03</th>\n",
              "      <td>334.409424</td>\n",
              "      <td>326.511505</td>\n",
              "      <td>326.796783</td>\n",
              "      <td>333.038025</td>\n",
              "      <td>7345600.0</td>\n",
              "      <td>333.038025</td>\n",
              "    </tr>\n",
              "    <tr>\n",
              "      <th>2012-01-04</th>\n",
              "      <td>335.460449</td>\n",
              "      <td>330.640656</td>\n",
              "      <td>332.847839</td>\n",
              "      <td>334.474487</td>\n",
              "      <td>5722200.0</td>\n",
              "      <td>334.474487</td>\n",
              "    </tr>\n",
              "    <tr>\n",
              "      <th>2012-01-05</th>\n",
              "      <td>332.317322</td>\n",
              "      <td>328.443451</td>\n",
              "      <td>331.396393</td>\n",
              "      <td>329.834839</td>\n",
              "      <td>6559200.0</td>\n",
              "      <td>329.834839</td>\n",
              "    </tr>\n",
              "    <tr>\n",
              "      <th>2012-01-06</th>\n",
              "      <td>330.330322</td>\n",
              "      <td>325.220215</td>\n",
              "      <td>329.904907</td>\n",
              "      <td>325.335327</td>\n",
              "      <td>5380400.0</td>\n",
              "      <td>325.335327</td>\n",
              "    </tr>\n",
              "    <tr>\n",
              "      <th>2012-01-09</th>\n",
              "      <td>323.823822</td>\n",
              "      <td>310.925934</td>\n",
              "      <td>323.573578</td>\n",
              "      <td>311.541534</td>\n",
              "      <td>11633500.0</td>\n",
              "      <td>311.541534</td>\n",
              "    </tr>\n",
              "    <tr>\n",
              "      <th>...</th>\n",
              "      <td>...</td>\n",
              "      <td>...</td>\n",
              "      <td>...</td>\n",
              "      <td>...</td>\n",
              "      <td>...</td>\n",
              "      <td>...</td>\n",
              "    </tr>\n",
              "    <tr>\n",
              "      <th>2019-12-11</th>\n",
              "      <td>1349.890015</td>\n",
              "      <td>1341.099976</td>\n",
              "      <td>1348.300049</td>\n",
              "      <td>1344.250000</td>\n",
              "      <td>1024000.0</td>\n",
              "      <td>1344.250000</td>\n",
              "    </tr>\n",
              "    <tr>\n",
              "      <th>2019-12-12</th>\n",
              "      <td>1354.579956</td>\n",
              "      <td>1338.199951</td>\n",
              "      <td>1343.209961</td>\n",
              "      <td>1348.489990</td>\n",
              "      <td>1455700.0</td>\n",
              "      <td>1348.489990</td>\n",
              "    </tr>\n",
              "    <tr>\n",
              "      <th>2019-12-13</th>\n",
              "      <td>1351.349976</td>\n",
              "      <td>1341.660034</td>\n",
              "      <td>1347.900024</td>\n",
              "      <td>1346.869995</td>\n",
              "      <td>1658500.0</td>\n",
              "      <td>1346.869995</td>\n",
              "    </tr>\n",
              "    <tr>\n",
              "      <th>2019-12-16</th>\n",
              "      <td>1363.530029</td>\n",
              "      <td>1350.609985</td>\n",
              "      <td>1355.000000</td>\n",
              "      <td>1360.699951</td>\n",
              "      <td>1406400.0</td>\n",
              "      <td>1360.699951</td>\n",
              "    </tr>\n",
              "    <tr>\n",
              "      <th>2019-12-17</th>\n",
              "      <td>1364.329956</td>\n",
              "      <td>1350.770020</td>\n",
              "      <td>1362.410034</td>\n",
              "      <td>1354.890015</td>\n",
              "      <td>1647400.0</td>\n",
              "      <td>1354.890015</td>\n",
              "    </tr>\n",
              "  </tbody>\n",
              "</table>\n",
              "<p>2003 rows × 6 columns</p>\n",
              "</div>"
            ],
            "text/plain": [
              "                   High          Low  ...      Volume    Adj Close\n",
              "Date                                  ...                         \n",
              "2012-01-03   334.409424   326.511505  ...   7345600.0   333.038025\n",
              "2012-01-04   335.460449   330.640656  ...   5722200.0   334.474487\n",
              "2012-01-05   332.317322   328.443451  ...   6559200.0   329.834839\n",
              "2012-01-06   330.330322   325.220215  ...   5380400.0   325.335327\n",
              "2012-01-09   323.823822   310.925934  ...  11633500.0   311.541534\n",
              "...                 ...          ...  ...         ...          ...\n",
              "2019-12-11  1349.890015  1341.099976  ...   1024000.0  1344.250000\n",
              "2019-12-12  1354.579956  1338.199951  ...   1455700.0  1348.489990\n",
              "2019-12-13  1351.349976  1341.660034  ...   1658500.0  1346.869995\n",
              "2019-12-16  1363.530029  1350.609985  ...   1406400.0  1360.699951\n",
              "2019-12-17  1364.329956  1350.770020  ...   1647400.0  1354.890015\n",
              "\n",
              "[2003 rows x 6 columns]"
            ]
          },
          "metadata": {
            "tags": []
          },
          "execution_count": 4
        }
      ]
    },
    {
      "cell_type": "code",
      "metadata": {
        "id": "vTkLlrtyY7D8",
        "colab_type": "code",
        "colab": {
          "base_uri": "https://localhost:8080/",
          "height": 36
        },
        "outputId": "bc4c1878-f1f3-4883-db20-a104adde5c8a"
      },
      "source": [
        "# shape of our dataframe \n",
        "df.shape"
      ],
      "execution_count": 5,
      "outputs": [
        {
          "output_type": "execute_result",
          "data": {
            "text/plain": [
              "(2003, 6)"
            ]
          },
          "metadata": {
            "tags": []
          },
          "execution_count": 5
        }
      ]
    },
    {
      "cell_type": "code",
      "metadata": {
        "id": "pSLgbkVdZriT",
        "colab_type": "code",
        "colab": {
          "base_uri": "https://localhost:8080/",
          "height": 558
        },
        "outputId": "fcbed3f4-0421-4c63-cfde-5d4c10b5c0d4"
      },
      "source": [
        "#Visualize the closing price data \n",
        "plt.figure(figsize=(16,8))\n",
        "plt.title(\"Close Price History\")\n",
        "plt.plot(df[\"Close\"])\n",
        "plt.xlabel(\"Date\", fontsize = 18)\n",
        "plt.ylabel(\"Close price in USD($)\")\n",
        "plt.show()"
      ],
      "execution_count": 6,
      "outputs": [
        {
          "output_type": "display_data",
          "data": {
            "image/png": "[encoded data removed]",
            "text/plain": [
              "<Figure size 1152x576 with 1 Axes>"
            ]
          },
          "metadata": {
            "tags": []
          }
        }
      ]
    },
    {
      "cell_type": "code",
      "metadata": {
        "id": "HI4PrBo6aSp1",
        "colab_type": "code",
        "colab": {
          "base_uri": "https://localhost:8080/",
          "height": 237
        },
        "outputId": "d40f8b86-3c23-4e08-ac33-0ea3ed160c86"
      },
      "source": [
        "#create a new dataframe with only \"Close\" column\n",
        "data = df.filter([\"Close\"])\n",
        "data.head()"
      ],
      "execution_count": 7,
      "outputs": [
        {
          "output_type": "execute_result",
          "data": {
            "text/html": [
              "<div>\n",
              "<style scoped>\n",
              "    .dataframe tbody tr th:only-of-type {\n",
              "        vertical-align: middle;\n",
              "    }\n",
              "\n",
              "    .dataframe tbody tr th {\n",
              "        vertical-align: top;\n",
              "    }\n",
              "\n",
              "    .dataframe thead th {\n",
              "        text-align: right;\n",
              "    }\n",
              "</style>\n",
              "<table border=\"1\" class=\"dataframe\">\n",
              "  <thead>\n",
              "    <tr style=\"text-align: right;\">\n",
              "      <th></th>\n",
              "      <th>Close</th>\n",
              "    </tr>\n",
              "    <tr>\n",
              "      <th>Date</th>\n",
              "      <th></th>\n",
              "    </tr>\n",
              "  </thead>\n",
              "  <tbody>\n",
              "    <tr>\n",
              "      <th>2012-01-03</th>\n",
              "      <td>333.038025</td>\n",
              "    </tr>\n",
              "    <tr>\n",
              "      <th>2012-01-04</th>\n",
              "      <td>334.474487</td>\n",
              "    </tr>\n",
              "    <tr>\n",
              "      <th>2012-01-05</th>\n",
              "      <td>329.834839</td>\n",
              "    </tr>\n",
              "    <tr>\n",
              "      <th>2012-01-06</th>\n",
              "      <td>325.335327</td>\n",
              "    </tr>\n",
              "    <tr>\n",
              "      <th>2012-01-09</th>\n",
              "      <td>311.541534</td>\n",
              "    </tr>\n",
              "  </tbody>\n",
              "</table>\n",
              "</div>"
            ],
            "text/plain": [
              "                 Close\n",
              "Date                  \n",
              "2012-01-03  333.038025\n",
              "2012-01-04  334.474487\n",
              "2012-01-05  329.834839\n",
              "2012-01-06  325.335327\n",
              "2012-01-09  311.541534"
            ]
          },
          "metadata": {
            "tags": []
          },
          "execution_count": 7
        }
      ]
    },
    {
      "cell_type": "code",
      "metadata": {
        "id": "nvHnjZNWddTH",
        "colab_type": "code",
        "colab": {}
      },
      "source": [
        "# convert dataframe to np array\n",
        "dataset = data.values"
      ],
      "execution_count": 8,
      "outputs": []
    },
    {
      "cell_type": "code",
      "metadata": {
        "id": "OEW7WFm6d8HU",
        "colab_type": "code",
        "colab": {}
      },
      "source": [
        "# get the no of rows to train the model on \n",
        "training_data_len = math.ceil(len(dataset) * 0.8 )"
      ],
      "execution_count": 9,
      "outputs": []
    },
    {
      "cell_type": "code",
      "metadata": {
        "id": "_dy7M4fveA-w",
        "colab_type": "code",
        "colab": {
          "base_uri": "https://localhost:8080/",
          "height": 36
        },
        "outputId": "29580ce2-e2b1-4bd4-83ce-10cc22fb14f5"
      },
      "source": [
        "training_data_len"
      ],
      "execution_count": 10,
      "outputs": [
        {
          "output_type": "execute_result",
          "data": {
            "text/plain": [
              "1603"
            ]
          },
          "metadata": {
            "tags": []
          },
          "execution_count": 10
        }
      ]
    },
    {
      "cell_type": "code",
      "metadata": {
        "id": "JqjSX8HHeaTs",
        "colab_type": "code",
        "colab": {
          "base_uri": "https://localhost:8080/",
          "height": 148
        },
        "outputId": "509e34a4-24f0-4efa-e966-900576fde46c"
      },
      "source": [
        "#Scale the data\n",
        "\n",
        "scaler = MinMaxScaler(feature_range=(0,1))\n",
        "scaler_data = scaler.fit_transform(dataset)\n",
        "scaler_data"
      ],
      "execution_count": 11,
      "outputs": [
        {
          "output_type": "execute_result",
          "data": {
            "text/plain": [
              "array([[0.04924919],\n",
              "       [0.05057815],\n",
              "       [0.04628574],\n",
              "       ...,\n",
              "       [0.98720509],\n",
              "       [1.        ],\n",
              "       [0.99462488]])"
            ]
          },
          "metadata": {
            "tags": []
          },
          "execution_count": 11
        }
      ]
    },
    {
      "cell_type": "code",
      "metadata": {
        "id": "oP0s7ThFexvM",
        "colab_type": "code",
        "colab": {
          "base_uri": "https://localhost:8080/",
          "height": 260
        },
        "outputId": "9696bdf5-66c2-4388-9af0-1c72c8e358c5"
      },
      "source": [
        "# create the training dataset \n",
        "# create scaled dataset \n",
        "train_data = scaler_data[0:training_data_len, :]\n",
        "#split the data into xtrain and y train \n",
        "X_train = []\n",
        "Y_train = []\n",
        "\n",
        "for i in range(60, len(train_data)):\n",
        "  X_train.append(train_data[i-60:i, 0])\n",
        "  Y_train.append(train_data[i, 0])\n",
        "  if i <= 60:\n",
        "    print(X_train)\n",
        "    print(Y_train)"
      ],
      "execution_count": 12,
      "outputs": [
        {
          "output_type": "stream",
          "text": [
            "[array([0.04924919, 0.05057815, 0.04628574, 0.04212297, 0.02936152,\n",
            "       0.02967641, 0.03098219, 0.03268617, 0.03053302, 0.03219536,\n",
            "       0.03420031, 0.03728418, 0.01247437, 0.01225672, 0.01013138,\n",
            "       0.00483416, 0.00419052, 0.00969147, 0.0086311 , 0.00975167,\n",
            "       0.01008508, 0.01206688, 0.01726223, 0.02317065, 0.02209639,\n",
            "       0.02352255, 0.02426806, 0.02169818, 0.02461071, 0.02348088,\n",
            "       0.02153609, 0.02198063, 0.02111011, 0.02544419, 0.02263814,\n",
            "       0.02179079, 0.02354571, 0.02327252, 0.02747695, 0.02741213,\n",
            "       0.02933374, 0.02880125, 0.02555995, 0.02125828, 0.02211028,\n",
            "       0.02226771, 0.01907734, 0.02134625, 0.02719448, 0.02636565,\n",
            "       0.02874569, 0.03055617, 0.03469578, 0.0344689 , 0.03747403,\n",
            "       0.04028471, 0.03868257, 0.04180348, 0.04073385, 0.04478086])]\n",
            "[0.04137749326825896]\n"
          ],
          "name": "stdout"
        }
      ]
    },
    {
      "cell_type": "code",
      "metadata": {
        "id": "CEU6GMfhg6gf",
        "colab_type": "code",
        "colab": {}
      },
      "source": [
        "# convert  x_trai and y_train to numpy \n",
        "X_train, Y_train = np.array(X_train),np.array(Y_train)"
      ],
      "execution_count": 14,
      "outputs": []
    },
    {
      "cell_type": "code",
      "metadata": {
        "id": "nCiW5Opyvwpa",
        "colab_type": "code",
        "colab": {
          "base_uri": "https://localhost:8080/",
          "height": 36
        },
        "outputId": "20df825b-6239-442e-c157-161be64bb7f9"
      },
      "source": [
        "#reshape the data \n",
        "# LSTM expects the data to be in 3 dimensionals\n",
        "X_train =np.reshape(X_train, (X_train.shape[0], X_train.shape[1], 1))\n",
        "X_train.shape"
      ],
      "execution_count": 18,
      "outputs": [
        {
          "output_type": "execute_result",
          "data": {
            "text/plain": [
              "(1543, 60, 1)"
            ]
          },
          "metadata": {
            "tags": []
          },
          "execution_count": 18
        }
      ]
    },
    {
      "cell_type": "code",
      "metadata": {
        "id": "-1WPwHsH4eSZ",
        "colab_type": "code",
        "colab": {}
      },
      "source": [
        "#Build the LSTM\n",
        "model = Sequential()\n",
        "model.add(LSTM(50,return_sequences=True,input_shape = (X_train.shape[1],1)))\n",
        "model.add(LSTM(50, return_sequences=False))\n",
        "\n",
        "model.add(Dense(25))\n",
        "model.add(Dense(1))"
      ],
      "execution_count": 20,
      "outputs": []
    },
    {
      "cell_type": "code",
      "metadata": {
        "id": "-iXiQdMr6xSR",
        "colab_type": "code",
        "colab": {}
      },
      "source": [
        "#Compile the model \n",
        "model.compile(optimizer=\"adam\", loss = \"mean_squared_error\")"
      ],
      "execution_count": 21,
      "outputs": []
    },
    {
      "cell_type": "code",
      "metadata": {
        "id": "0DnpaVYG7B07",
        "colab_type": "code",
        "colab": {
          "base_uri": "https://localhost:8080/",
          "height": 54
        },
        "outputId": "ef1bbb89-ede0-4b52-c16a-8a4228ba7aae"
      },
      "source": [
        "# train the data\n",
        "model.fit(X_train, Y_train, batch_size=1,epochs= 1)"
      ],
      "execution_count": 23,
      "outputs": [
        {
          "output_type": "stream",
          "text": [
            "1543/1543 [==============================] - 35s 22ms/step - loss: 0.0013\n"
          ],
          "name": "stdout"
        },
        {
          "output_type": "execute_result",
          "data": {
            "text/plain": [
              "<tensorflow.python.keras.callbacks.History at 0x7f97e5a44cc0>"
            ]
          },
          "metadata": {
            "tags": []
          },
          "execution_count": 23
        }
      ]
    },
    {
      "cell_type": "code",
      "metadata": {
        "id": "B7KDSfo47fgC",
        "colab_type": "code",
        "colab": {}
      },
      "source": [
        "# create a testing dataset \n",
        "# create a new array containing scaled values from index 1502- 2003\n",
        "test_data = scaler_data[training_data_len-60: :]\n",
        "\n",
        "\n",
        "# create the data sets X_test and Y_test\n",
        "X_test = []\n",
        "Y_test = dataset[training_data_len:, :]\n",
        "for i in range(60, len(test_data)):\n",
        "  X_test.append(test_data[i-60:i, 0])"
      ],
      "execution_count": 24,
      "outputs": []
    },
    {
      "cell_type": "code",
      "metadata": {
        "id": "4n0cMomX86zm",
        "colab_type": "code",
        "colab": {}
      },
      "source": [
        "# convert the data to a numpy array\\\n",
        "X_test = np.array(X_test)"
      ],
      "execution_count": 25,
      "outputs": []
    },
    {
      "cell_type": "code",
      "metadata": {
        "id": "RcUrew3u9Duv",
        "colab_type": "code",
        "colab": {}
      },
      "source": [
        "# reshape the test data\n",
        "X_test = np.reshape(X_test, (X_test.shape[0], X_test.shape[1], 1))"
      ],
      "execution_count": 26,
      "outputs": []
    },
    {
      "cell_type": "code",
      "metadata": {
        "id": "1p0XaDv29VXd",
        "colab_type": "code",
        "colab": {}
      },
      "source": [
        "# models predicted price values\n",
        "# predictions\n",
        "predictions = model.predict(X_test)\n",
        "predictions = scaler.inverse_transform(predictions)"
      ],
      "execution_count": 27,
      "outputs": []
    },
    {
      "cell_type": "code",
      "metadata": {
        "id": "GCopZtJO9wss",
        "colab_type": "code",
        "colab": {
          "base_uri": "https://localhost:8080/",
          "height": 36
        },
        "outputId": "999c8437-4f14-4363-95b5-54d2d6a50908"
      },
      "source": [
        "# getting the root mean squared error (RMSE)\n",
        "rmse = np.sqrt(np.mean(predictions-Y_test)**2)\n",
        "rmse"
      ],
      "execution_count": 30,
      "outputs": [
        {
          "output_type": "execute_result",
          "data": {
            "text/plain": [
              "0.6427432250976562"
            ]
          },
          "metadata": {
            "tags": []
          },
          "execution_count": 30
        }
      ]
    },
    {
      "cell_type": "code",
      "metadata": {
        "id": "nE8G6Mup9yiV",
        "colab_type": "code",
        "colab": {
          "base_uri": "https://localhost:8080/",
          "height": 670
        },
        "outputId": "47d18d4a-28cb-459d-92ad-6e70aeafc274"
      },
      "source": [
        " # plot the data \n",
        " train = data[:training_data_len]\n",
        " valid = data[training_data_len:]\n",
        " valid[\"Predictions\"] = predictions\n",
        "\n",
        " #visualize the model \n",
        " plt.figure(figsize=(16,8))\n",
        " plt.title(\"Model\")\n",
        " plt.xlabel(\"Date\", fontsize = 18)\n",
        " plt.ylabel(\"Close price in USD\", fontsize = 18)\n",
        " plt.plot(train[\"Close\"])\n",
        " plt.plot(valid[[\"Close\", \"Predictions\"]])\n",
        " plt.legend([\"Train\", \"Val\", \"Predictions\"], loc = \"lower right\")\n",
        " plt.show()\n",
        "\n"
      ],
      "execution_count": 34,
      "outputs": [
        {
          "output_type": "stream",
          "text": [
            "/usr/local/lib/python3.6/dist-packages/ipykernel_launcher.py:4: SettingWithCopyWarning: \n",
            "A value is trying to be set on a copy of a slice from a DataFrame.\n",
            "Try using .loc[row_indexer,col_indexer] = value instead\n",
            "\n",
            "See the caveats in the documentation: https://pandas.pydata.org/pandas-docs/stable/user_guide/indexing.html#returning-a-view-versus-a-copy\n",
            "  after removing the cwd from sys.path.\n"
          ],
          "name": "stderr"
        },
        {
          "output_type": "display_data",
          "data": {
            "image/png": "[encoded data removed]",
            "text/plain": [
              "<Figure size 1152x576 with 1 Axes>"
            ]
          },
          "metadata": {
            "tags": []
          }
        }
      ]
    },
    {
      "cell_type": "code",
      "metadata": {
        "id": "z3rJf64O_t4-",
        "colab_type": "code",
        "colab": {}
      },
      "source": [
        ""
      ],
      "execution_count": null,
      "outputs": []
    }
  ]
}