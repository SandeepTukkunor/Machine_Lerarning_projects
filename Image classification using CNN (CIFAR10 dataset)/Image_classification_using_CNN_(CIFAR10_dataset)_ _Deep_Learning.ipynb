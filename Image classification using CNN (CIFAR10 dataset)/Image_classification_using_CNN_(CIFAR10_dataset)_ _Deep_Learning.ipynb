{
  "nbformat": 4,
  "nbformat_minor": 0,
  "metadata": {
    "colab": {
      "name": "Image classification using CNN (CIFAR10 dataset) | Deep Learning.ipynb",
      "provenance": [],
      "collapsed_sections": []
    },
    "kernelspec": {
      "name": "python3",
      "display_name": "Python 3"
    },
    "accelerator": "GPU"
  },
  "cells": [
    {
      "cell_type": "code",
      "metadata": {
        "id": "MGWz9JvvRDQY"
      },
      "source": [
        "import tensorflow as tf\r\n",
        "from tensorflow.keras import datasets, layers, models\r\n",
        "import matplotlib.pyplot as plt\r\n",
        "import numpy as np\r\n",
        "from sklearn.preprocessing import OneHotEncoder"
      ],
      "execution_count": 36,
      "outputs": []
    },
    {
      "cell_type": "code",
      "metadata": {
        "id": "42w-5Nn2PC28"
      },
      "source": [
        ""
      ],
      "execution_count": 36,
      "outputs": []
    },
    {
      "cell_type": "code",
      "metadata": {
        "id": "HhLW7iknRz6c"
      },
      "source": [
        "(X_train,y_train),(X_test, y_test)=datasets.cifar10.load_data()"
      ],
      "execution_count": 37,
      "outputs": []
    },
    {
      "cell_type": "code",
      "metadata": {
        "colab": {
          "base_uri": "https://localhost:8080/"
        },
        "id": "WmDh2O8dR7NT",
        "outputId": "974e87ad-63be-4c55-cc6e-28ad602b8442"
      },
      "source": [
        "X_train.shape"
      ],
      "execution_count": 38,
      "outputs": [
        {
          "output_type": "execute_result",
          "data": {
            "text/plain": [
              "(50000, 32, 32, 3)"
            ]
          },
          "metadata": {
            "tags": []
          },
          "execution_count": 38
        }
      ]
    },
    {
      "cell_type": "code",
      "metadata": {
        "colab": {
          "base_uri": "https://localhost:8080/"
        },
        "id": "-9EWfkpSSWN2",
        "outputId": "9a2bf569-b05e-487d-9bec-57ab8147c9b4"
      },
      "source": [
        "X_test.shape"
      ],
      "execution_count": 39,
      "outputs": [
        {
          "output_type": "execute_result",
          "data": {
            "text/plain": [
              "(10000, 32, 32, 3)"
            ]
          },
          "metadata": {
            "tags": []
          },
          "execution_count": 39
        }
      ]
    },
    {
      "cell_type": "code",
      "metadata": {
        "colab": {
          "base_uri": "https://localhost:8080/"
        },
        "id": "boXH3Uke7C0a",
        "outputId": "a1d217a5-36dc-4d48-d4ed-e24b80e3aedd"
      },
      "source": [
        "y_train[:5] # we have to reshape , because we dont need 2 dimensional array to plot "
      ],
      "execution_count": 40,
      "outputs": [
        {
          "output_type": "execute_result",
          "data": {
            "text/plain": [
              "array([[6],\n",
              "       [9],\n",
              "       [9],\n",
              "       [4],\n",
              "       [1]], dtype=uint8)"
            ]
          },
          "metadata": {
            "tags": []
          },
          "execution_count": 40
        }
      ]
    },
    {
      "cell_type": "code",
      "metadata": {
        "id": "6x4shcly7DB6"
      },
      "source": [
        "y_train = y_train.reshape(-1, )\r\n",
        "y_test = y_test.reshape(-1,)"
      ],
      "execution_count": 68,
      "outputs": []
    },
    {
      "cell_type": "code",
      "metadata": {
        "id": "S8s7X3me8HPd"
      },
      "source": [
        "classes = [\"aeroplane\", \"automobile\", \"bird\", \"cat\",\"deer\", \"dog\", \"frog\", \"horse\", \"ship\", \"truck\"]"
      ],
      "execution_count": 86,
      "outputs": []
    },
    {
      "cell_type": "code",
      "metadata": {
        "colab": {
          "base_uri": "https://localhost:8080/",
          "height": 36
        },
        "id": "lkXfzMlm84oQ",
        "outputId": "ffa7e407-4b62-4247-d9b9-592781323322"
      },
      "source": [
        "classes[2]"
      ],
      "execution_count": 43,
      "outputs": [
        {
          "output_type": "execute_result",
          "data": {
            "application/vnd.google.colaboratory.intrinsic+json": {
              "type": "string"
            },
            "text/plain": [
              "'bird'"
            ]
          },
          "metadata": {
            "tags": []
          },
          "execution_count": 43
        }
      ]
    },
    {
      "cell_type": "code",
      "metadata": {
        "id": "cYtr3T3qSZWj"
      },
      "source": [
        "def plot_sample(X, y, index ):\r\n",
        "  plt.figure(figsize=(15,2))\r\n",
        "  plt.imshow(X[index])\r\n",
        "  plt.xlabel(classes[y[index]])\r\n",
        "\r\n",
        "\r\n"
      ],
      "execution_count": 44,
      "outputs": []
    },
    {
      "cell_type": "code",
      "metadata": {
        "colab": {
          "base_uri": "https://localhost:8080/",
          "height": 173
        },
        "id": "SJbI-62vTAWQ",
        "outputId": "c3f16310-645a-4fe3-8459-afb278bb347a"
      },
      "source": [
        "plot_sample(X_train, y_train, 0)"
      ],
      "execution_count": 45,
      "outputs": [
        {
          "output_type": "display_data",
          "data": {
            "image/png": "[encoded data removed]",
            "text/plain": [
              "<Figure size 1080x144 with 1 Axes>"
            ]
          },
          "metadata": {
            "tags": [],
            "needs_background": "light"
          }
        }
      ]
    },
    {
      "cell_type": "code",
      "metadata": {
        "id": "4s3LTURZ9iQM"
      },
      "source": [
        "# We have to normalize our data as we are dealing with the images , we have to devide it by 255"
      ],
      "execution_count": 46,
      "outputs": []
    },
    {
      "cell_type": "code",
      "metadata": {
        "id": "6eZjsu0SLSjZ"
      },
      "source": [
        "#one hot encode\r\n",
        "#cat_encoder = OneHotEncoder()\r\n",
        "#y_train = cat_encoder.fit_transform(y_train)\r\n",
        "#print(y_train)"
      ],
      "execution_count": 47,
      "outputs": []
    },
    {
      "cell_type": "code",
      "metadata": {
        "id": "DX3Od_9OLVZA"
      },
      "source": [
        ""
      ],
      "execution_count": 47,
      "outputs": []
    },
    {
      "cell_type": "code",
      "metadata": {
        "colab": {
          "base_uri": "https://localhost:8080/"
        },
        "id": "-ptp_iqHAJqe",
        "outputId": "e9aa4c3c-3b62-46ca-8e42-1fe2a38ba594"
      },
      "source": [
        "X_train[0]/255"
      ],
      "execution_count": 48,
      "outputs": [
        {
          "output_type": "execute_result",
          "data": {
            "text/plain": [
              "array([[[0.23137255, 0.24313725, 0.24705882],\n",
              "        [0.16862745, 0.18039216, 0.17647059],\n",
              "        [0.19607843, 0.18823529, 0.16862745],\n",
              "        ...,\n",
              "        [0.61960784, 0.51764706, 0.42352941],\n",
              "        [0.59607843, 0.49019608, 0.4       ],\n",
              "        [0.58039216, 0.48627451, 0.40392157]],\n",
              "\n",
              "       [[0.0627451 , 0.07843137, 0.07843137],\n",
              "        [0.        , 0.        , 0.        ],\n",
              "        [0.07058824, 0.03137255, 0.        ],\n",
              "        ...,\n",
              "        [0.48235294, 0.34509804, 0.21568627],\n",
              "        [0.46666667, 0.3254902 , 0.19607843],\n",
              "        [0.47843137, 0.34117647, 0.22352941]],\n",
              "\n",
              "       [[0.09803922, 0.09411765, 0.08235294],\n",
              "        [0.0627451 , 0.02745098, 0.        ],\n",
              "        [0.19215686, 0.10588235, 0.03137255],\n",
              "        ...,\n",
              "        [0.4627451 , 0.32941176, 0.19607843],\n",
              "        [0.47058824, 0.32941176, 0.19607843],\n",
              "        [0.42745098, 0.28627451, 0.16470588]],\n",
              "\n",
              "       ...,\n",
              "\n",
              "       [[0.81568627, 0.66666667, 0.37647059],\n",
              "        [0.78823529, 0.6       , 0.13333333],\n",
              "        [0.77647059, 0.63137255, 0.10196078],\n",
              "        ...,\n",
              "        [0.62745098, 0.52156863, 0.2745098 ],\n",
              "        [0.21960784, 0.12156863, 0.02745098],\n",
              "        [0.20784314, 0.13333333, 0.07843137]],\n",
              "\n",
              "       [[0.70588235, 0.54509804, 0.37647059],\n",
              "        [0.67843137, 0.48235294, 0.16470588],\n",
              "        [0.72941176, 0.56470588, 0.11764706],\n",
              "        ...,\n",
              "        [0.72156863, 0.58039216, 0.36862745],\n",
              "        [0.38039216, 0.24313725, 0.13333333],\n",
              "        [0.3254902 , 0.20784314, 0.13333333]],\n",
              "\n",
              "       [[0.69411765, 0.56470588, 0.45490196],\n",
              "        [0.65882353, 0.50588235, 0.36862745],\n",
              "        [0.70196078, 0.55686275, 0.34117647],\n",
              "        ...,\n",
              "        [0.84705882, 0.72156863, 0.54901961],\n",
              "        [0.59215686, 0.4627451 , 0.32941176],\n",
              "        [0.48235294, 0.36078431, 0.28235294]]])"
            ]
          },
          "metadata": {
            "tags": []
          },
          "execution_count": 48
        }
      ]
    },
    {
      "cell_type": "code",
      "metadata": {
        "id": "aexYk9A_A9Li"
      },
      "source": [
        "X_train = X_train/255"
      ],
      "execution_count": 49,
      "outputs": []
    },
    {
      "cell_type": "code",
      "metadata": {
        "id": "HAbMyTslBJ0W"
      },
      "source": [
        "X_test = X_test/255"
      ],
      "execution_count": 50,
      "outputs": []
    },
    {
      "cell_type": "code",
      "metadata": {
        "id": "YmHGi9FeBPUp"
      },
      "source": [
        "#first we will build a simmple artificial neural network before convalutional NN"
      ],
      "execution_count": 51,
      "outputs": []
    },
    {
      "cell_type": "code",
      "metadata": {
        "colab": {
          "base_uri": "https://localhost:8080/"
        },
        "id": "HIcEz7k4BZ5s",
        "outputId": "cbae3482-e3a2-4f2b-8094-9f2715dbba13"
      },
      "source": [
        "ann = models.Sequential([\r\n",
        "                        layers.Flatten(input_shape= (32,32,3)),\r\n",
        "                        layers.Dense(3000, activation= 'relu'),\r\n",
        "                        layers.Dense(1000, activation=\"relu\"),\r\n",
        "                        layers.Dense(10, activation=\"sigmoid\")\r\n",
        "])\r\n",
        "\r\n",
        "\r\n",
        "ann.compile(optimizer= \"SGD\",\r\n",
        "            loss = \"sparse_categorical_crossentropy\", \r\n",
        "            metrics = [\"accuracy\"])\r\n",
        "\r\n",
        "\r\n",
        "ann.fit(X_train, y_train, epochs = 5)"
      ],
      "execution_count": 52,
      "outputs": [
        {
          "output_type": "stream",
          "text": [
            "Epoch 1/5\n",
            "1563/1563 [==============================] - 5s 3ms/step - loss: 1.9348 - accuracy: 0.3067\n",
            "Epoch 2/5\n",
            "1563/1563 [==============================] - 5s 3ms/step - loss: 1.6521 - accuracy: 0.4177\n",
            "Epoch 3/5\n",
            "1563/1563 [==============================] - 5s 3ms/step - loss: 1.5562 - accuracy: 0.4532\n",
            "Epoch 4/5\n",
            "1563/1563 [==============================] - 5s 3ms/step - loss: 1.4993 - accuracy: 0.4694\n",
            "Epoch 5/5\n",
            "1563/1563 [==============================] - 5s 3ms/step - loss: 1.4360 - accuracy: 0.4957\n"
          ],
          "name": "stdout"
        },
        {
          "output_type": "execute_result",
          "data": {
            "text/plain": [
              "<tensorflow.python.keras.callbacks.History at 0x7f68b7404630>"
            ]
          },
          "metadata": {
            "tags": []
          },
          "execution_count": 52
        }
      ]
    },
    {
      "cell_type": "code",
      "metadata": {
        "colab": {
          "base_uri": "https://localhost:8080/"
        },
        "id": "qOxkPqlVIecC",
        "outputId": "3133c707-6e6e-4f35-c4b9-2c8dc7ecd032"
      },
      "source": [
        "ann.evaluate(X_test, y_test)"
      ],
      "execution_count": 54,
      "outputs": [
        {
          "output_type": "stream",
          "text": [
            "313/313 [==============================] - 1s 2ms/step - loss: 1.5194 - accuracy: 0.4572\n"
          ],
          "name": "stdout"
        },
        {
          "output_type": "execute_result",
          "data": {
            "text/plain": [
              "[1.5194369554519653, 0.45719999074935913]"
            ]
          },
          "metadata": {
            "tags": []
          },
          "execution_count": 54
        }
      ]
    },
    {
      "cell_type": "code",
      "metadata": {
        "id": "X-NWLBeqKNvY"
      },
      "source": [
        "# now we will build CNN "
      ],
      "execution_count": 55,
      "outputs": []
    },
    {
      "cell_type": "code",
      "metadata": {
        "id": "PozTpWnaXevl"
      },
      "source": [
        "from sklearn.metrics import confusion_matrix, classification_report\r\n",
        "y_pred = ann.predict(X_test)"
      ],
      "execution_count": 56,
      "outputs": []
    },
    {
      "cell_type": "code",
      "metadata": {
        "colab": {
          "base_uri": "https://localhost:8080/"
        },
        "id": "i23lihXUZ3Q_",
        "outputId": "c6010671-b7bc-4158-ec27-33c8eb1a8c0c"
      },
      "source": [
        "y_pred"
      ],
      "execution_count": 57,
      "outputs": [
        {
          "output_type": "execute_result",
          "data": {
            "text/plain": [
              "array([[0.5218288 , 0.6412923 , 0.7423714 , ..., 0.05105751, 0.58947533,\n",
              "        0.0807384 ],\n",
              "       [0.93099827, 0.9766865 , 0.34455067, ..., 0.09581369, 0.94392896,\n",
              "        0.9834933 ],\n",
              "       [0.98418105, 0.9312918 , 0.4668884 , ..., 0.24220742, 0.9508084 ,\n",
              "        0.9157865 ],\n",
              "       ...,\n",
              "       [0.1255363 , 0.08592485, 0.73255974, ..., 0.5086093 , 0.387494  ,\n",
              "        0.18988723],\n",
              "       [0.5110353 , 0.41229782, 0.7878116 , ..., 0.23874432, 0.2281219 ,\n",
              "        0.21518362],\n",
              "       [0.63086545, 0.26243162, 0.77075595, ..., 0.8390835 , 0.16339602,\n",
              "        0.3589129 ]], dtype=float32)"
            ]
          },
          "metadata": {
            "tags": []
          },
          "execution_count": 57
        }
      ]
    },
    {
      "cell_type": "code",
      "metadata": {
        "id": "ql8SVY9YZ4z0"
      },
      "source": [
        "y_pred_classes = [np.argmax(element) for element in y_pred]"
      ],
      "execution_count": 58,
      "outputs": []
    },
    {
      "cell_type": "code",
      "metadata": {
        "colab": {
          "base_uri": "https://localhost:8080/"
        },
        "id": "DJCrmaBAaG86",
        "outputId": "2d070f77-e632-4f76-ae79-6d24acea4dc0"
      },
      "source": [
        "print(\"Classification report \", classification_report(y_test, y_pred_classes))"
      ],
      "execution_count": 61,
      "outputs": [
        {
          "output_type": "stream",
          "text": [
            "Classification report                precision    recall  f1-score   support\n",
            "\n",
            "           0       0.38      0.73      0.50      1000\n",
            "           1       0.45      0.74      0.56      1000\n",
            "           2       0.31      0.47      0.38      1000\n",
            "           3       0.39      0.29      0.33      1000\n",
            "           4       0.45      0.30      0.36      1000\n",
            "           5       0.50      0.26      0.34      1000\n",
            "           6       0.54      0.51      0.52      1000\n",
            "           7       0.70      0.40      0.51      1000\n",
            "           8       0.71      0.37      0.48      1000\n",
            "           9       0.52      0.51      0.52      1000\n",
            "\n",
            "    accuracy                           0.46     10000\n",
            "   macro avg       0.50      0.46      0.45     10000\n",
            "weighted avg       0.50      0.46      0.45     10000\n",
            "\n"
          ],
          "name": "stdout"
        }
      ]
    },
    {
      "cell_type": "code",
      "metadata": {
        "id": "jNj4gloWaSva"
      },
      "source": [
        "model = models.Sequential([\r\n",
        "                         layers.Conv2D(filters=32,kernel_size=(3,3),activation='relu', input_shape = (32,32,3) ),\r\n",
        "\r\n",
        "                         layers.MaxPooling2D((2,2)),\r\n",
        "\r\n",
        "                         layers.Conv2D(filters=64,kernel_size=(3,3),activation='relu', input_shape = (32,32,3) ),\r\n",
        "                         layers.MaxPooling2D((2,2)),\r\n",
        "\r\n",
        "\r\n",
        "                         \r\n",
        "                         #dense network\r\n",
        "                         layers.Flatten(),\r\n",
        "                         layers.Dense(3000, activation= 'relu'),\r\n",
        "                        \r\n",
        "                         layers.Dense(10, activation=\"softmax\")\r\n",
        "])"
      ],
      "execution_count": 64,
      "outputs": []
    },
    {
      "cell_type": "code",
      "metadata": {
        "id": "Jqb43O7jjNLV"
      },
      "source": [
        "model.compile(optimizer=\"adam\", \r\n",
        "              loss = \"sparse_categorical_crossentropy\",\r\n",
        "              metrics = [\"accuracy\"])"
      ],
      "execution_count": 65,
      "outputs": []
    },
    {
      "cell_type": "code",
      "metadata": {
        "colab": {
          "base_uri": "https://localhost:8080/"
        },
        "id": "V8RCXdxljlVR",
        "outputId": "41e4d107-f5fe-4fce-c974-24ce6a5ebd3c"
      },
      "source": [
        "model.fit(X_train, y_train, epochs=10)"
      ],
      "execution_count": 66,
      "outputs": [
        {
          "output_type": "stream",
          "text": [
            "Epoch 1/10\n",
            "1563/1563 [==============================] - 11s 4ms/step - loss: 1.5502 - accuracy: 0.4418\n",
            "Epoch 2/10\n",
            "1563/1563 [==============================] - 6s 4ms/step - loss: 0.9417 - accuracy: 0.6678\n",
            "Epoch 3/10\n",
            "1563/1563 [==============================] - 6s 4ms/step - loss: 0.6878 - accuracy: 0.7591\n",
            "Epoch 4/10\n",
            "1563/1563 [==============================] - 6s 4ms/step - loss: 0.4502 - accuracy: 0.8452\n",
            "Epoch 5/10\n",
            "1563/1563 [==============================] - 6s 4ms/step - loss: 0.2451 - accuracy: 0.9170\n",
            "Epoch 6/10\n",
            "1563/1563 [==============================] - 6s 4ms/step - loss: 0.1278 - accuracy: 0.9604\n",
            "Epoch 7/10\n",
            "1563/1563 [==============================] - 6s 4ms/step - loss: 0.0825 - accuracy: 0.9741\n",
            "Epoch 8/10\n",
            "1563/1563 [==============================] - 6s 4ms/step - loss: 0.0733 - accuracy: 0.9767\n",
            "Epoch 9/10\n",
            "1563/1563 [==============================] - 6s 4ms/step - loss: 0.0606 - accuracy: 0.9820\n",
            "Epoch 10/10\n",
            "1563/1563 [==============================] - 6s 4ms/step - loss: 0.0596 - accuracy: 0.9818\n"
          ],
          "name": "stdout"
        },
        {
          "output_type": "execute_result",
          "data": {
            "text/plain": [
              "<tensorflow.python.keras.callbacks.History at 0x7f68ae4d6438>"
            ]
          },
          "metadata": {
            "tags": []
          },
          "execution_count": 66
        }
      ]
    },
    {
      "cell_type": "code",
      "metadata": {
        "colab": {
          "base_uri": "https://localhost:8080/"
        },
        "id": "gfZ6tC6xjr7D",
        "outputId": "559df206-7187-437a-84b6-2d956a0f960b"
      },
      "source": [
        "model.evaluate(X_test, y_test)"
      ],
      "execution_count": 67,
      "outputs": [
        {
          "output_type": "stream",
          "text": [
            "313/313 [==============================] - 1s 3ms/step - loss: 1.7382 - accuracy: 0.7008\n"
          ],
          "name": "stdout"
        },
        {
          "output_type": "execute_result",
          "data": {
            "text/plain": [
              "[1.738218903541565, 0.7008000016212463]"
            ]
          },
          "metadata": {
            "tags": []
          },
          "execution_count": 67
        }
      ]
    },
    {
      "cell_type": "code",
      "metadata": {
        "colab": {
          "base_uri": "https://localhost:8080/",
          "height": 173
        },
        "id": "SmTYF3iIkJTz",
        "outputId": "d9c6d66c-da2c-49fd-fb01-a241057c393b"
      },
      "source": [
        "plot_sample(X_test, y_test,1)"
      ],
      "execution_count": 69,
      "outputs": [
        {
          "output_type": "display_data",
          "data": {
            "image/png": "[encoded data removed]",
            "text/plain": [
              "<Figure size 1080x144 with 1 Axes>"
            ]
          },
          "metadata": {
            "tags": [],
            "needs_background": "light"
          }
        }
      ]
    },
    {
      "cell_type": "code",
      "metadata": {
        "id": "-3jKd8_voo4v"
      },
      "source": [
        "y_pred = model.predict(X_test)"
      ],
      "execution_count": 70,
      "outputs": []
    },
    {
      "cell_type": "code",
      "metadata": {
        "colab": {
          "base_uri": "https://localhost:8080/"
        },
        "id": "ocNPv8Ifo3GN",
        "outputId": "926a0b81-968b-415c-914a-233654529b14"
      },
      "source": [
        "y_pred[:5]"
      ],
      "execution_count": 72,
      "outputs": [
        {
          "output_type": "execute_result",
          "data": {
            "text/plain": [
              "array([[8.0802973e-09, 3.7262160e-07, 1.1008457e-07, 9.6144623e-01,\n",
              "        2.1318694e-08, 3.8522821e-02, 1.9619625e-05, 7.5104745e-06,\n",
              "        2.9091443e-06, 3.8907143e-07],\n",
              "       [5.3624466e-05, 9.7472215e-01, 3.3706772e-12, 4.2067080e-13,\n",
              "        5.0081839e-16, 2.1557913e-18, 2.0946551e-15, 5.1738477e-16,\n",
              "        2.5209032e-02, 1.5181039e-05],\n",
              "       [1.0660316e-03, 9.8556048e-01, 5.0329263e-06, 6.6130488e-05,\n",
              "        1.1104051e-05, 3.8849235e-09, 1.9742583e-09, 2.6029142e-05,\n",
              "        7.9881679e-03, 5.2768770e-03],\n",
              "       [9.9847990e-01, 1.2801216e-05, 2.3529294e-04, 7.5407524e-04,\n",
              "        5.2524356e-08, 1.9197701e-11, 3.4609305e-12, 5.8235345e-13,\n",
              "        5.1759585e-04, 2.5265535e-07],\n",
              "       [9.5269468e-14, 1.0099468e-07, 1.3019221e-03, 9.4241019e-05,\n",
              "        6.5198225e-01, 1.8822293e-04, 3.4643313e-01, 2.3118514e-12,\n",
              "        6.6092213e-08, 7.9042779e-11]], dtype=float32)"
            ]
          },
          "metadata": {
            "tags": []
          },
          "execution_count": 72
        }
      ]
    },
    {
      "cell_type": "code",
      "metadata": {
        "id": "i8pkNhCOo462"
      },
      "source": [
        "y_classes = [np.argmax(element) for element in y_pred]"
      ],
      "execution_count": 73,
      "outputs": []
    },
    {
      "cell_type": "code",
      "metadata": {
        "colab": {
          "base_uri": "https://localhost:8080/"
        },
        "id": "Wl2uWzXPpnS5",
        "outputId": "99914bcb-bcf9-4004-9d73-596d624650dc"
      },
      "source": [
        "y_test[:10] # actual values  "
      ],
      "execution_count": 81,
      "outputs": [
        {
          "output_type": "execute_result",
          "data": {
            "text/plain": [
              "array([3, 8, 8, 0, 6, 6, 1, 6, 3, 1], dtype=uint8)"
            ]
          },
          "metadata": {
            "tags": []
          },
          "execution_count": 81
        }
      ]
    },
    {
      "cell_type": "code",
      "metadata": {
        "colab": {
          "base_uri": "https://localhost:8080/"
        },
        "id": "fAW6W1aHpu0z",
        "outputId": "c5ef051d-fb2f-413a-e27f-f16f29cfb6af"
      },
      "source": [
        "y_classes[:10] #predicted value"
      ],
      "execution_count": 82,
      "outputs": [
        {
          "output_type": "execute_result",
          "data": {
            "text/plain": [
              "[3, 1, 1, 0, 4, 6, 1, 6, 3, 9]"
            ]
          },
          "metadata": {
            "tags": []
          },
          "execution_count": 82
        }
      ]
    },
    {
      "cell_type": "code",
      "metadata": {
        "colab": {
          "base_uri": "https://localhost:8080/",
          "height": 173
        },
        "id": "CpOtThlzrfLq",
        "outputId": "daa5cbc2-0cf5-4c5e-b7e0-08a7cb69e015"
      },
      "source": [
        "plot_sample(X_test, y_test, 0)"
      ],
      "execution_count": 78,
      "outputs": [
        {
          "output_type": "display_data",
          "data": {
            "image/png": "[encoded data removed]",
            "text/plain": [
              "<Figure size 1080x144 with 1 Axes>"
            ]
          },
          "metadata": {
            "tags": [],
            "needs_background": "light"
          }
        }
      ]
    },
    {
      "cell_type": "code",
      "metadata": {
        "colab": {
          "base_uri": "https://localhost:8080/",
          "height": 36
        },
        "id": "-ivDt4Uprorc",
        "outputId": "cf258fa0-bd02-4b62-bc78-d4c89ce97a98"
      },
      "source": [
        "classes[y_classes[0]] # predicted right"
      ],
      "execution_count": 88,
      "outputs": [
        {
          "output_type": "execute_result",
          "data": {
            "application/vnd.google.colaboratory.intrinsic+json": {
              "type": "string"
            },
            "text/plain": [
              "'cat'"
            ]
          },
          "metadata": {
            "tags": []
          },
          "execution_count": 88
        }
      ]
    },
    {
      "cell_type": "code",
      "metadata": {
        "colab": {
          "base_uri": "https://localhost:8080/",
          "height": 173
        },
        "id": "F_zwdCuWrvCH",
        "outputId": "edb65074-4cfb-454c-c09b-8c36608d7174"
      },
      "source": [
        "plot_sample(X_test, y_test,1)"
      ],
      "execution_count": 90,
      "outputs": [
        {
          "output_type": "display_data",
          "data": {
            "image/png": "[encoded data removed]",
            "text/plain": [
              "<Figure size 1080x144 with 1 Axes>"
            ]
          },
          "metadata": {
            "tags": [],
            "needs_background": "light"
          }
        }
      ]
    },
    {
      "cell_type": "code",
      "metadata": {
        "colab": {
          "base_uri": "https://localhost:8080/",
          "height": 36
        },
        "id": "5JGgsm8XshX7",
        "outputId": "bf7dd793-0acd-44e2-8e64-96d5e5f16803"
      },
      "source": [
        "classes[y_classes[1]] #predicted wrong"
      ],
      "execution_count": 91,
      "outputs": [
        {
          "output_type": "execute_result",
          "data": {
            "application/vnd.google.colaboratory.intrinsic+json": {
              "type": "string"
            },
            "text/plain": [
              "'automobile'"
            ]
          },
          "metadata": {
            "tags": []
          },
          "execution_count": 91
        }
      ]
    },
    {
      "cell_type": "code",
      "metadata": {
        "id": "-bITzLDfsmcK"
      },
      "source": [
        ""
      ],
      "execution_count": null,
      "outputs": []
    }
  ]
}