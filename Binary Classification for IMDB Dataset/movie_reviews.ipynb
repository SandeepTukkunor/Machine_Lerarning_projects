{
  "nbformat": 4,
  "nbformat_minor": 0,
  "metadata": {
    "colab": {
      "name": "Untitled4.ipynb",
      "provenance": [],
      "collapsed_sections": []
    },
    "kernelspec": {
      "name": "python3",
      "display_name": "Python 3"
    },
    "accelerator": "TPU"
  },
  "cells": [
    {
      "cell_type": "code",
      "metadata": {
        "id": "4wiew8OjEZDD",
        "colab_type": "code",
        "colab": {}
      },
      "source": [
        "from keras import datasets\n"
      ],
      "execution_count": 54,
      "outputs": []
    },
    {
      "cell_type": "code",
      "metadata": {
        "id": "rkd3rmvMNtH-",
        "colab_type": "code",
        "colab": {}
      },
      "source": [
        "from keras.datasets import imdb"
      ],
      "execution_count": 55,
      "outputs": []
    },
    {
      "cell_type": "code",
      "metadata": {
        "id": "zPZVlwz5EsTH",
        "colab_type": "code",
        "colab": {}
      },
      "source": [
        "(train_data , train_labels), (test_data, test_labels) = imdb.load_data(num_words= 10000)\n"
      ],
      "execution_count": 56,
      "outputs": []
    },
    {
      "cell_type": "code",
      "metadata": {
        "id": "BuLgKGXp9Bxr",
        "colab_type": "code",
        "colab": {
          "base_uri": "https://localhost:8080/",
          "height": 1000
        },
        "outputId": "53167b4e-1f36-4703-a119-dc7e3be42e69"
      },
      "source": [
        "train_data[0] # all the words of each senetece are given a saperate number \n"
      ],
      "execution_count": 57,
      "outputs": [
        {
          "output_type": "execute_result",
          "data": {
            "text/plain": [
              "[1,\n",
              " 14,\n",
              " 22,\n",
              " 16,\n",
              " 43,\n",
              " 530,\n",
              " 973,\n",
              " 1622,\n",
              " 1385,\n",
              " 65,\n",
              " 458,\n",
              " 4468,\n",
              " 66,\n",
              " 3941,\n",
              " 4,\n",
              " 173,\n",
              " 36,\n",
              " 256,\n",
              " 5,\n",
              " 25,\n",
              " 100,\n",
              " 43,\n",
              " 838,\n",
              " 112,\n",
              " 50,\n",
              " 670,\n",
              " 2,\n",
              " 9,\n",
              " 35,\n",
              " 480,\n",
              " 284,\n",
              " 5,\n",
              " 150,\n",
              " 4,\n",
              " 172,\n",
              " 112,\n",
              " 167,\n",
              " 2,\n",
              " 336,\n",
              " 385,\n",
              " 39,\n",
              " 4,\n",
              " 172,\n",
              " 4536,\n",
              " 1111,\n",
              " 17,\n",
              " 546,\n",
              " 38,\n",
              " 13,\n",
              " 447,\n",
              " 4,\n",
              " 192,\n",
              " 50,\n",
              " 16,\n",
              " 6,\n",
              " 147,\n",
              " 2025,\n",
              " 19,\n",
              " 14,\n",
              " 22,\n",
              " 4,\n",
              " 1920,\n",
              " 4613,\n",
              " 469,\n",
              " 4,\n",
              " 22,\n",
              " 71,\n",
              " 87,\n",
              " 12,\n",
              " 16,\n",
              " 43,\n",
              " 530,\n",
              " 38,\n",
              " 76,\n",
              " 15,\n",
              " 13,\n",
              " 1247,\n",
              " 4,\n",
              " 22,\n",
              " 17,\n",
              " 515,\n",
              " 17,\n",
              " 12,\n",
              " 16,\n",
              " 626,\n",
              " 18,\n",
              " 2,\n",
              " 5,\n",
              " 62,\n",
              " 386,\n",
              " 12,\n",
              " 8,\n",
              " 316,\n",
              " 8,\n",
              " 106,\n",
              " 5,\n",
              " 4,\n",
              " 2223,\n",
              " 5244,\n",
              " 16,\n",
              " 480,\n",
              " 66,\n",
              " 3785,\n",
              " 33,\n",
              " 4,\n",
              " 130,\n",
              " 12,\n",
              " 16,\n",
              " 38,\n",
              " 619,\n",
              " 5,\n",
              " 25,\n",
              " 124,\n",
              " 51,\n",
              " 36,\n",
              " 135,\n",
              " 48,\n",
              " 25,\n",
              " 1415,\n",
              " 33,\n",
              " 6,\n",
              " 22,\n",
              " 12,\n",
              " 215,\n",
              " 28,\n",
              " 77,\n",
              " 52,\n",
              " 5,\n",
              " 14,\n",
              " 407,\n",
              " 16,\n",
              " 82,\n",
              " 2,\n",
              " 8,\n",
              " 4,\n",
              " 107,\n",
              " 117,\n",
              " 5952,\n",
              " 15,\n",
              " 256,\n",
              " 4,\n",
              " 2,\n",
              " 7,\n",
              " 3766,\n",
              " 5,\n",
              " 723,\n",
              " 36,\n",
              " 71,\n",
              " 43,\n",
              " 530,\n",
              " 476,\n",
              " 26,\n",
              " 400,\n",
              " 317,\n",
              " 46,\n",
              " 7,\n",
              " 4,\n",
              " 2,\n",
              " 1029,\n",
              " 13,\n",
              " 104,\n",
              " 88,\n",
              " 4,\n",
              " 381,\n",
              " 15,\n",
              " 297,\n",
              " 98,\n",
              " 32,\n",
              " 2071,\n",
              " 56,\n",
              " 26,\n",
              " 141,\n",
              " 6,\n",
              " 194,\n",
              " 7486,\n",
              " 18,\n",
              " 4,\n",
              " 226,\n",
              " 22,\n",
              " 21,\n",
              " 134,\n",
              " 476,\n",
              " 26,\n",
              " 480,\n",
              " 5,\n",
              " 144,\n",
              " 30,\n",
              " 5535,\n",
              " 18,\n",
              " 51,\n",
              " 36,\n",
              " 28,\n",
              " 224,\n",
              " 92,\n",
              " 25,\n",
              " 104,\n",
              " 4,\n",
              " 226,\n",
              " 65,\n",
              " 16,\n",
              " 38,\n",
              " 1334,\n",
              " 88,\n",
              " 12,\n",
              " 16,\n",
              " 283,\n",
              " 5,\n",
              " 16,\n",
              " 4472,\n",
              " 113,\n",
              " 103,\n",
              " 32,\n",
              " 15,\n",
              " 16,\n",
              " 5345,\n",
              " 19,\n",
              " 178,\n",
              " 32]"
            ]
          },
          "metadata": {
            "tags": []
          },
          "execution_count": 57
        }
      ]
    },
    {
      "cell_type": "code",
      "metadata": {
        "id": "et4IiOID9GLp",
        "colab_type": "code",
        "colab": {
          "base_uri": "https://localhost:8080/",
          "height": 36
        },
        "outputId": "ed981c0f-821b-46c2-f583-2f0fbd72cee2"
      },
      "source": [
        "train_labels[0] # 1 means +ve review and 0 means -ve review\n"
      ],
      "execution_count": 58,
      "outputs": [
        {
          "output_type": "execute_result",
          "data": {
            "text/plain": [
              "1"
            ]
          },
          "metadata": {
            "tags": []
          },
          "execution_count": 58
        }
      ]
    },
    {
      "cell_type": "code",
      "metadata": {
        "id": "yzz2TBsY9byt",
        "colab_type": "code",
        "colab": {}
      },
      "source": [
        "\n",
        "# we can see the full sentecne of a review with the hepl of this code \n",
        "word_index = imdb.get_word_index()\n",
        "reverse_word_index = dict(\n",
        "    [(value, key ) for (key, value) in word_index.items()])\n",
        "\n",
        "decoded_review = \" \".join([reverse_word_index.get(i - 4 , \"?\") for i in train_data[0]])"
      ],
      "execution_count": 59,
      "outputs": []
    },
    {
      "cell_type": "code",
      "metadata": {
        "id": "o6jFYofY-Pou",
        "colab_type": "code",
        "colab": {
          "base_uri": "https://localhost:8080/",
          "height": 130
        },
        "outputId": "f2bc997e-7d58-4ce4-d1c4-c797c863d7b2"
      },
      "source": [
        "decoded_review"
      ],
      "execution_count": 60,
      "outputs": [
        {
          "output_type": "execute_result",
          "data": {
            "application/vnd.google.colaboratory.intrinsic+json": {
              "type": "string"
            },
            "text/plain": [
              "\"? i but that or viewer apart shocking impression only 5 embarrassment story merit ? same an woman the not too or dance many some mostly ? to by history true the watching ? few many makes ? you're mean so ? few reads state was highly who it called ? can't some that and i'm murdered for i but ? judge questionable seemed ? but can first in that or viewer who we this it dad ? but was favorite was in that whose as ? the my came in of during of characters the ? send primitive that history story sloppy all ? your in that who exactly the not show there an these has not bother all and but in gets his much what the i human that do ? of ? watch acting profession this woman ? ? a carpenter the entertainment an can or viewer \\x96 you doing everyone it's a ? ? spoilers it after great ? start this watched make one genuinely very you go and take northam as ? there's but movie here \\x96 you history the through he penny as there an his family most not after ? there's only that who club great in that reason the that reaching being movies one this that objects for cast one\""
            ]
          },
          "metadata": {
            "tags": []
          },
          "execution_count": 60
        }
      ]
    },
    {
      "cell_type": "code",
      "metadata": {
        "id": "0jL3yvl1-V-8",
        "colab_type": "code",
        "colab": {}
      },
      "source": [
        "# encoding the integer equence into a binary matrix\n",
        "# as we know that for tensorflow and keras , we have to convert integers to tensors\n",
        "\n",
        "import numpy as np\n",
        "\n",
        "def vectorize_sequence(sequence, dimension = 10000):\n",
        "  result = np.zeros((len(sequence), dimension))\n",
        "  for i , sequence in enumerate(sequence):\n",
        "    result[i , sequence] = 1\n",
        "\n",
        "  return result"
      ],
      "execution_count": 61,
      "outputs": []
    },
    {
      "cell_type": "code",
      "metadata": {
        "id": "JNB_2udVAADl",
        "colab_type": "code",
        "colab": {}
      },
      "source": [
        "x_train = vectorize_sequence(train_data)\n",
        "x_test = vectorize_sequence(test_data)"
      ],
      "execution_count": 62,
      "outputs": []
    },
    {
      "cell_type": "code",
      "metadata": {
        "id": "DaXtGHL2A2TD",
        "colab_type": "code",
        "colab": {
          "base_uri": "https://localhost:8080/",
          "height": 36
        },
        "outputId": "438f546a-4792-4de0-d42e-9732c2722e7e"
      },
      "source": [
        "x_train[0] # now the train and test data is converted to tensors\n"
      ],
      "execution_count": 63,
      "outputs": [
        {
          "output_type": "execute_result",
          "data": {
            "text/plain": [
              "array([0., 1., 1., ..., 0., 0., 0.])"
            ]
          },
          "metadata": {
            "tags": []
          },
          "execution_count": 63
        }
      ]
    },
    {
      "cell_type": "code",
      "metadata": {
        "id": "ArXbkJbnBEwa",
        "colab_type": "code",
        "colab": {}
      },
      "source": [
        "# and also we have ti vectorize our labels\n",
        "y_train = np.asarray(train_labels).astype(\"float32\")\n",
        "y_test = np.asarray(test_labels).astype(\"float32\")"
      ],
      "execution_count": 64,
      "outputs": []
    },
    {
      "cell_type": "code",
      "metadata": {
        "id": "9ZfslGCLBqlz",
        "colab_type": "code",
        "colab": {}
      },
      "source": [
        "#building the neaural network \n",
        "from keras import models\n",
        "from keras import layers\n"
      ],
      "execution_count": 65,
      "outputs": []
    },
    {
      "cell_type": "code",
      "metadata": {
        "id": "eTkNmR0YB3dD",
        "colab_type": "code",
        "colab": {}
      },
      "source": [
        "model = models.Sequential()\n",
        "model.add(layers.Dense(16, activation=\"relu\", input_shape = (10000,)))\n",
        "model.add(layers.Dense(16, activation = \"relu\"))\n",
        "model.add(layers.Dense(1, activation = \"sigmoid\"))"
      ],
      "execution_count": 66,
      "outputs": []
    },
    {
      "cell_type": "code",
      "metadata": {
        "id": "zA0MXQXhCghT",
        "colab_type": "code",
        "colab": {}
      },
      "source": [
        "#model.compile(optimizer=\"rmsprop\", loss=\"binary_crossentropy\", metrics= [\"accuracy\"])"
      ],
      "execution_count": 67,
      "outputs": []
    },
    {
      "cell_type": "code",
      "metadata": {
        "id": "iYQPBk7XC8Sq",
        "colab_type": "code",
        "colab": {}
      },
      "source": [
        "# validation our approach \n",
        "x_val = x_train[:10000]\n",
        "partial_x_train = x_train[10000:]"
      ],
      "execution_count": 68,
      "outputs": []
    },
    {
      "cell_type": "code",
      "metadata": {
        "id": "R500FC0ZDW73",
        "colab_type": "code",
        "colab": {}
      },
      "source": [
        "y_val = y_train[:10000]\n",
        "partial_y_train = y_train[10000:]"
      ],
      "execution_count": 69,
      "outputs": []
    },
    {
      "cell_type": "markdown",
      "metadata": {
        "id": "Jki9PxDYFcNk",
        "colab_type": "text"
      },
      "source": [
        ""
      ]
    },
    {
      "cell_type": "code",
      "metadata": {
        "id": "kPzaeBhoDYGb",
        "colab_type": "code",
        "colab": {}
      },
      "source": [
        "# training the model\n",
        "model.compile(optimizer=\"rmsprop\", loss=\"binary_crossentropy\", metrics= [\"acc\"])"
      ],
      "execution_count": 70,
      "outputs": []
    },
    {
      "cell_type": "code",
      "metadata": {
        "id": "wh8V4vIbD3HR",
        "colab_type": "code",
        "colab": {
          "base_uri": "https://localhost:8080/",
          "height": 764
        },
        "outputId": "29ea012a-4bc3-42c3-ed87-2616bc1af6cc"
      },
      "source": [
        "history = model.fit(partial_x_train, partial_y_train, epochs=20, batch_size= 512, validation_data=(x_val, y_val))"
      ],
      "execution_count": 71,
      "outputs": [
        {
          "output_type": "stream",
          "text": [
            "Epoch 1/20\n",
            "30/30 [==============================] - 2s 50ms/step - loss: 0.5426 - acc: 0.7529 - val_loss: 0.4090 - val_acc: 0.8739\n",
            "Epoch 2/20\n",
            "30/30 [==============================] - 1s 29ms/step - loss: 0.3262 - acc: 0.9003 - val_loss: 0.3191 - val_acc: 0.8847\n",
            "Epoch 3/20\n",
            "30/30 [==============================] - 1s 30ms/step - loss: 0.2333 - acc: 0.9292 - val_loss: 0.2880 - val_acc: 0.8872\n",
            "Epoch 4/20\n",
            "30/30 [==============================] - 1s 29ms/step - loss: 0.1846 - acc: 0.9423 - val_loss: 0.2880 - val_acc: 0.8855\n",
            "Epoch 5/20\n",
            "30/30 [==============================] - 1s 30ms/step - loss: 0.1527 - acc: 0.9516 - val_loss: 0.2868 - val_acc: 0.8871\n",
            "Epoch 6/20\n",
            "30/30 [==============================] - 1s 31ms/step - loss: 0.1254 - acc: 0.9643 - val_loss: 0.3148 - val_acc: 0.8775\n",
            "Epoch 7/20\n",
            "30/30 [==============================] - 1s 30ms/step - loss: 0.1037 - acc: 0.9709 - val_loss: 0.3248 - val_acc: 0.8767\n",
            "Epoch 8/20\n",
            "30/30 [==============================] - 1s 30ms/step - loss: 0.0889 - acc: 0.9767 - val_loss: 0.3296 - val_acc: 0.8793\n",
            "Epoch 9/20\n",
            "30/30 [==============================] - 1s 30ms/step - loss: 0.0749 - acc: 0.9800 - val_loss: 0.3384 - val_acc: 0.8810\n",
            "Epoch 10/20\n",
            "30/30 [==============================] - 1s 30ms/step - loss: 0.0593 - acc: 0.9858 - val_loss: 0.3664 - val_acc: 0.8782\n",
            "Epoch 11/20\n",
            "30/30 [==============================] - 1s 30ms/step - loss: 0.0503 - acc: 0.9891 - val_loss: 0.3852 - val_acc: 0.8787\n",
            "Epoch 12/20\n",
            "30/30 [==============================] - 1s 29ms/step - loss: 0.0443 - acc: 0.9885 - val_loss: 0.4126 - val_acc: 0.8767\n",
            "Epoch 13/20\n",
            "30/30 [==============================] - 1s 29ms/step - loss: 0.0327 - acc: 0.9927 - val_loss: 0.4383 - val_acc: 0.8756\n",
            "Epoch 14/20\n",
            "30/30 [==============================] - 1s 30ms/step - loss: 0.0288 - acc: 0.9941 - val_loss: 0.4714 - val_acc: 0.8722\n",
            "Epoch 15/20\n",
            "30/30 [==============================] - 1s 30ms/step - loss: 0.0211 - acc: 0.9964 - val_loss: 0.4900 - val_acc: 0.8735\n",
            "Epoch 16/20\n",
            "30/30 [==============================] - 1s 29ms/step - loss: 0.0164 - acc: 0.9975 - val_loss: 0.5278 - val_acc: 0.8694\n",
            "Epoch 17/20\n",
            "30/30 [==============================] - 1s 30ms/step - loss: 0.0127 - acc: 0.9985 - val_loss: 0.5573 - val_acc: 0.8688\n",
            "Epoch 18/20\n",
            "30/30 [==============================] - 1s 29ms/step - loss: 0.0125 - acc: 0.9978 - val_loss: 0.5881 - val_acc: 0.8694\n",
            "Epoch 19/20\n",
            "30/30 [==============================] - 1s 30ms/step - loss: 0.0075 - acc: 0.9991 - val_loss: 0.6241 - val_acc: 0.8661\n",
            "Epoch 20/20\n",
            "30/30 [==============================] - 1s 29ms/step - loss: 0.0049 - acc: 0.9999 - val_loss: 0.6523 - val_acc: 0.8676\n"
          ],
          "name": "stdout"
        }
      ]
    },
    {
      "cell_type": "code",
      "metadata": {
        "id": "vg2OlKBYEQez",
        "colab_type": "code",
        "colab": {
          "base_uri": "https://localhost:8080/",
          "height": 36
        },
        "outputId": "fd181371-6d11-40fb-b7d4-2f80e0868f99"
      },
      "source": [
        "history_dict = history.history\n",
        "history_dict.keys()"
      ],
      "execution_count": 72,
      "outputs": [
        {
          "output_type": "execute_result",
          "data": {
            "text/plain": [
              "dict_keys(['loss', 'acc', 'val_loss', 'val_acc'])"
            ]
          },
          "metadata": {
            "tags": []
          },
          "execution_count": 72
        }
      ]
    },
    {
      "cell_type": "code",
      "metadata": {
        "id": "4IgZY3q8Enbo",
        "colab_type": "code",
        "colab": {
          "base_uri": "https://localhost:8080/",
          "height": 295
        },
        "outputId": "89096e2f-3e78-4f7b-e2db-46ea9499f010"
      },
      "source": [
        "# plotting \n",
        "import matplotlib.pyplot as plt\n",
        "\n",
        "acc = history.history['acc']\n",
        "val_acc = history.history['val_acc']\n",
        "loss = history.history['loss']\n",
        "val_loss = history.history['val_loss']\n",
        "\n",
        "epochs = range(1, len(acc) + 1)\n",
        "\n",
        "# \"bo\" is for \"blue dot\"\n",
        "plt.plot(epochs, loss, 'bo', label='Training loss')\n",
        "# b is for \"solid blue line\"\n",
        "plt.plot(epochs, val_loss, 'b', label='Validation loss')\n",
        "plt.title('Training and validation loss')\n",
        "plt.xlabel('Epochs')\n",
        "plt.ylabel('Loss')\n",
        "plt.legend()\n",
        "\n",
        "plt.show()"
      ],
      "execution_count": 74,
      "outputs": [
        {
          "output_type": "display_data",
          "data": {
            "image/png": "[encoded data removed]",
            "text/plain": [
              "<Figure size 432x288 with 1 Axes>"
            ]
          },
          "metadata": {
            "tags": [],
            "needs_background": "light"
          }
        }
      ]
    },
    {
      "cell_type": "code",
      "metadata": {
        "id": "hl6xSq9dFGSj",
        "colab_type": "code",
        "colab": {
          "base_uri": "https://localhost:8080/",
          "height": 295
        },
        "outputId": "cd38a15b-e8de-4d8c-8196-54346c5f2cf8"
      },
      "source": [
        "acc_values = history_dict['acc']\n",
        "val_acc_values = history_dict['val_acc']\n",
        "plt.plot(epochs, acc, 'bo', label='Training acc')\n",
        "plt.plot(epochs, val_acc, 'b', label='Validation acc')\n",
        "plt.title('Training and validation accuracy')\n",
        "plt.xlabel('Epochs')\n",
        "plt.ylabel('Loss')\n",
        "plt.legend()\n",
        "plt.show()"
      ],
      "execution_count": 75,
      "outputs": [
        {
          "output_type": "display_data",
          "data": {
            "image/png": "[encoded data removed]",
            "text/plain": [
              "<Figure size 432x288 with 1 Axes>"
            ]
          },
          "metadata": {
            "tags": [],
            "needs_background": "light"
          }
        }
      ]
    },
    {
      "cell_type": "code",
      "metadata": {
        "id": "vcqks8W9TmaX",
        "colab_type": "code",
        "colab": {
          "base_uri": "https://localhost:8080/",
          "height": 148
        },
        "outputId": "44989135-ab53-414e-ff15-511e6fb43774"
      },
      "source": [
        "# predicting \n",
        "model.predict(x_test)"
      ],
      "execution_count": 76,
      "outputs": [
        {
          "output_type": "execute_result",
          "data": {
            "text/plain": [
              "array([[0.01038691],\n",
              "       [0.999998  ],\n",
              "       [0.9372666 ],\n",
              "       ...,\n",
              "       [0.00185922],\n",
              "       [0.00657257],\n",
              "       [0.92491865]], dtype=float32)"
            ]
          },
          "metadata": {
            "tags": []
          },
          "execution_count": 76
        }
      ]
    },
    {
      "cell_type": "code",
      "metadata": {
        "id": "mfsy_BKvTvh8",
        "colab_type": "code",
        "colab": {}
      },
      "source": [
        ""
      ],
      "execution_count": null,
      "outputs": []
    }
  ]
}